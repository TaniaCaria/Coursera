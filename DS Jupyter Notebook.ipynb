{
 "cells": [
  {
   "cell_type": "markdown",
   "id": "1bf54e43-5b49-40a4-b693-086d98704a62",
   "metadata": {},
   "source": [
    "# Ex.2 Data Science Jupyter Notebook"
   ]
  },
  {
   "cell_type": "markdown",
   "id": "a854926e-540e-425e-b533-22a5b207a802",
   "metadata": {},
   "source": [
    "## Ex.3 Introduction\n",
    "Ex.3 This notebook provides an overview of how to use Jupyter Notebook"
   ]
  },
  {
   "cell_type": "markdown",
   "id": "31695976-32df-4d87-b774-af4f2d829a5f",
   "metadata": {},
   "source": [
    "## Ex.4 Data Science Languages\n",
    "- Python\n",
    "- R\n",
    "- SQL\n",
    "- Julia\n",
    "- Java"
   ]
  },
  {
   "cell_type": "markdown",
   "id": "db27f22a-4c58-4c74-8f9e-d7c9bfa5795b",
   "metadata": {},
   "source": [
    "## Ex.5 Data Science Libraries\n",
    "- Pandas\n",
    "- NumPy\n",
    "- Matplotlib\n",
    "- Scikit-learn\n",
    "- TensorFlow"
   ]
  },
  {
   "cell_type": "markdown",
   "id": "99e99157-3a95-4b6f-adba-ecee2794cd54",
   "metadata": {},
   "source": [
    "## Ex.6 Data Science Tools\n",
    "| Tool           | Description                             |\n",
    "|----------------|-----------------------------------------|\n",
    "| Jupyter Notebook | Interactive coding environment         |\n",
    "| RStudio        | IDE for R                               |\n",
    "| TensorFlow     | Deep learning framework                 |\n"
   ]
  },
  {
   "cell_type": "markdown",
   "id": "449b2329-9724-4b58-b90f-7d7cc42289fc",
   "metadata": {},
   "source": [
    "## Ex.7 Arithmetic Expression Examples\n",
    "Below are some basic arithmetic operations used in data science.\n"
   ]
  },
  {
   "cell_type": "code",
   "execution_count": 2,
   "id": "bfda5757-49d2-4d70-91cb-fdb90e30f4d4",
   "metadata": {},
   "outputs": [
    {
     "data": {
      "text/plain": [
       "30"
      ]
     },
     "execution_count": 2,
     "metadata": {},
     "output_type": "execute_result"
    }
   ],
   "source": [
    "# Ex.8 Multiplication and addition\n",
    "result = (5 * 4) + 10\n",
    "result\n"
   ]
  },
  {
   "cell_type": "code",
   "execution_count": 1,
   "id": "699c72a7-17b0-4682-bbc6-d7a513ef96d1",
   "metadata": {},
   "outputs": [
    {
     "data": {
      "text/plain": [
       "2.5"
      ]
     },
     "execution_count": 1,
     "metadata": {},
     "output_type": "execute_result"
    }
   ],
   "source": [
    "# Ex.9 Convert minutes to hours\n",
    "minutes = 150\n",
    "hours = minutes / 60\n",
    "hours\n"
   ]
  },
  {
   "cell_type": "markdown",
   "id": "8b927a81-c954-438b-bec3-b0ab7b322a77",
   "metadata": {},
   "source": [
    "## Ex.10 Objectives\n",
    "- Understand data science languages and tools.\n",
    "- Learn basic arithmetic operations.\n",
    "- Convert time measurements.\n"
   ]
  },
  {
   "cell_type": "markdown",
   "id": "4055f06a-bf86-4fe7-9a6c-57bda739f70b",
   "metadata": {},
   "source": [
    "## Author\n",
    "Tânia\n"
   ]
  },
  {
   "cell_type": "code",
   "execution_count": null,
   "id": "cb7bf121-8763-4808-8d22-be2a94623db0",
   "metadata": {},
   "outputs": [],
   "source": []
  }
 ],
 "metadata": {
  "kernelspec": {
   "display_name": "Python 3 (ipykernel)",
   "language": "python",
   "name": "python3"
  },
  "language_info": {
   "codemirror_mode": {
    "name": "ipython",
    "version": 3
   },
   "file_extension": ".py",
   "mimetype": "text/x-python",
   "name": "python",
   "nbconvert_exporter": "python",
   "pygments_lexer": "ipython3",
   "version": "3.10.12"
  }
 },
 "nbformat": 4,
 "nbformat_minor": 5
}
